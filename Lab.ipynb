{
 "cells": [
  {
   "cell_type": "code",
   "execution_count": 37,
   "id": "185f96b1-e614-493a-a820-750dee18cc35",
   "metadata": {},
   "outputs": [
    {
     "name": "stdin",
     "output_type": "stream",
     "text": [
      "Please enter a name:  jack\n",
      "Enter your favorite color(lowercase):  organge\n"
     ]
    },
    {
     "name": "stdout",
     "output_type": "stream",
     "text": [
      "Your favorite color is organge and your name is jack \n",
      " Not many people have that as their favorite color!\n"
     ]
    }
   ],
   "source": [
    "# Ask user for their name and color \n",
    "name = input(\"Please enter a name: \")\n",
    "fav_color = input(\"Enter your favorite color(lowercase): \") \n",
    "\n",
    "#determine how popular a color is \n",
    "color_pop = \"Not many people have that as their favorite color!\"\n",
    "if( fav_color == \"blue\"):\n",
    "   color_pop = \"That's everyone's favorite!\" \n",
    "    \n",
    "elif ((fav_color == \"red\") or ( fav_color == \"green\") ):\n",
    "       color_pop = \"That color is the second most popular color in the world!\" \n",
    "\n",
    "\n",
    "#pints out user's name and color \n",
    "print(\"Your favorite color is\",fav_color, \"and your name is\",name,\"\\n\",color_pop)\n",
    "\n"
   ]
  },
  {
   "cell_type": "code",
   "execution_count": null,
   "id": "6476222d-f9ae-400c-a63b-c5253b4dda8f",
   "metadata": {},
   "outputs": [],
   "source": []
  }
 ],
 "metadata": {
  "kernelspec": {
   "display_name": "Python 3 (ipykernel)",
   "language": "python",
   "name": "python3"
  },
  "language_info": {
   "codemirror_mode": {
    "name": "ipython",
    "version": 3
   },
   "file_extension": ".py",
   "mimetype": "text/x-python",
   "name": "python",
   "nbconvert_exporter": "python",
   "pygments_lexer": "ipython3",
   "version": "3.12.4"
  }
 },
 "nbformat": 4,
 "nbformat_minor": 5
}
